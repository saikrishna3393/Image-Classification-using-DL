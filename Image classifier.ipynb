{
 "cells": [
  {
   "cell_type": "code",
   "execution_count": 1,
   "metadata": {},
   "outputs": [],
   "source": [
    "import os\n",
    "import pandas as pd\n",
    "import numpy as np"
   ]
  },
  {
   "cell_type": "code",
   "execution_count": 3,
   "metadata": {},
   "outputs": [],
   "source": [
    "import keras\n",
    "from keras.layers import *\n",
    "from keras.applications import inception_v3\n",
    "from keras.preprocessing.image import ImageDataGenerator\n",
    "from keras.models import Model, Sequential\n",
    "import matplotlib.pyplot as plt"
   ]
  },
  {
   "cell_type": "code",
   "execution_count": 4,
   "metadata": {},
   "outputs": [],
   "source": [
    "wrk_dir = os.getcwd()"
   ]
  },
  {
   "cell_type": "code",
   "execution_count": 5,
   "metadata": {},
   "outputs": [],
   "source": [
    "train_dir = os.path.join(wrk_dir,\"Train\")\n",
    "test_dir = os.path.join(wrk_dir,\"Test\")"
   ]
  },
  {
   "cell_type": "code",
   "execution_count": 6,
   "metadata": {},
   "outputs": [
    {
     "data": {
      "text/plain": [
       "'C:\\\\Users\\\\Saikrishna\\\\Desktop\\\\INSOFE_Intern\\\\Saikrishna_3393_Task4\\\\Q5\\\\Q5_data'"
      ]
     },
     "execution_count": 6,
     "metadata": {},
     "output_type": "execute_result"
    }
   ],
   "source": [
    "wrk_dir"
   ]
  },
  {
   "cell_type": "code",
   "execution_count": 7,
   "metadata": {},
   "outputs": [],
   "source": [
    "train_folders = os.listdir(train_dir)\n",
    "test_folders = os.listdir(test_dir)"
   ]
  },
  {
   "cell_type": "code",
   "execution_count": 8,
   "metadata": {},
   "outputs": [],
   "source": [
    "datagen = ImageDataGenerator(rescale = 1./255,shear_range = 0.2,zoom_range = 0.2,horizontal_flip = True)\n",
    "\n",
    "                                   "
   ]
  },
  {
   "cell_type": "code",
   "execution_count": 11,
   "metadata": {},
   "outputs": [
    {
     "name": "stdout",
     "output_type": "stream",
     "text": [
      "Found 429 images belonging to 24 classes.\n",
      "Found 54 images belonging to 7 classes.\n"
     ]
    }
   ],
   "source": [
    "train_set = datagen.flow_from_directory(train_dir,target_size=(224,224), batch_size=32,class_mode=\"categorical\")\n",
    "test_set = datagen.flow_from_directory(test_dir,target_size=(224,224), batch_size=32,class_mode=\"categorical\")"
   ]
  },
  {
   "cell_type": "code",
   "execution_count": 10,
   "metadata": {},
   "outputs": [
    {
     "name": "stdout",
     "output_type": "stream",
     "text": [
      "WARNING:tensorflow:From C:\\Users\\Saikrishna\\Anaconda3\\lib\\site-packages\\keras\\backend\\tensorflow_backend.py:4070: The name tf.nn.max_pool is deprecated. Please use tf.nn.max_pool2d instead.\n",
      "\n",
      "WARNING:tensorflow:From C:\\Users\\Saikrishna\\Anaconda3\\lib\\site-packages\\keras\\backend\\tensorflow_backend.py:4074: The name tf.nn.avg_pool is deprecated. Please use tf.nn.avg_pool2d instead.\n",
      "\n"
     ]
    }
   ],
   "source": [
    "model = inception_v3.InceptionV3(include_top = False, input_shape = (299,299,3))"
   ]
  },
  {
   "cell_type": "code",
   "execution_count": 11,
   "metadata": {},
   "outputs": [],
   "source": [
    "for layer in model.layers:\n",
    "    layer.trainable = False"
   ]
  },
  {
   "cell_type": "code",
   "execution_count": 12,
   "metadata": {},
   "outputs": [],
   "source": [
    "x = Flatten()(model.output)"
   ]
  },
  {
   "cell_type": "code",
   "execution_count": 13,
   "metadata": {},
   "outputs": [],
   "source": [
    "prediction = Dense(len(train_folders), activation = \"softmax\")(x)"
   ]
  },
  {
   "cell_type": "code",
   "execution_count": 14,
   "metadata": {},
   "outputs": [],
   "source": [
    "model1 = Model(model.input,prediction)"
   ]
  },
  {
   "cell_type": "code",
   "execution_count": 15,
   "metadata": {},
   "outputs": [],
   "source": [
    "model1.compile(optimizer=\"adam\",loss=\"categorical_crossentropy\", metrics=[\"accuracy\"])"
   ]
  },
  {
   "cell_type": "code",
   "execution_count": 16,
   "metadata": {},
   "outputs": [
    {
     "name": "stdout",
     "output_type": "stream",
     "text": [
      "WARNING:tensorflow:From C:\\Users\\Saikrishna\\Anaconda3\\lib\\site-packages\\keras\\backend\\tensorflow_backend.py:422: The name tf.global_variables is deprecated. Please use tf.compat.v1.global_variables instead.\n",
      "\n",
      "Epoch 1/3\n",
      "14/14 [==============================] - 143s 10s/step - loss: 14.4955 - accuracy: 0.4779\n",
      "Epoch 2/3\n",
      "14/14 [==============================] - 139s 10s/step - loss: 2.0785 - accuracy: 0.8951\n",
      "Epoch 3/3\n",
      "14/14 [==============================] - 138s 10s/step - loss: 0.4826 - accuracy: 0.9627\n"
     ]
    }
   ],
   "source": [
    "r = model1.fit(train_set, epochs=3, steps_per_epoch=len(train_set))"
   ]
  },
  {
   "cell_type": "code",
   "execution_count": 18,
   "metadata": {},
   "outputs": [
    {
     "data": {
      "text/plain": [
       "array(['bplyce', '9338543', 'bplyce', '9338543', '9338543', '9338519',\n",
       "       '9338519', '9338543', '9338519', '9338543', '9338543', '9338543',\n",
       "       '9338519', '9338519', '9338543', '9338519', '9338519', '9338543',\n",
       "       '9338543', '9338543', '9338519', '9338543', '9338543', '9338543',\n",
       "       '9338543', '9338543', '9338543', '9338519', '9338543', 'bplyce',\n",
       "       '9338543', '9338519', '9338519', '9338519', '9338543', '9338543',\n",
       "       '9338519', '9338543', '9338543', '9338543', '9338543', '9338543',\n",
       "       'asheal', 'bplyce', '9338543', '9338543', '9338519', '9338543',\n",
       "       '9338543', '9338543', '9338543', 'asheal', '9338519', '9338543'],\n",
       "      dtype='<U7')"
      ]
     },
     "execution_count": 18,
     "metadata": {},
     "output_type": "execute_result"
    }
   ],
   "source": [
    "test_pred = []\n",
    "for i in np.argmax(model1.predict(test_set),axis=1):\n",
    "    test_pred.append(train_folders[i])\n",
    "\n",
    "test_pred = np.array(test_pred)\n",
    "test_pred"
   ]
  },
  {
   "cell_type": "code",
   "execution_count": 19,
   "metadata": {},
   "outputs": [
    {
     "data": {
      "text/plain": [
       "['9326871', '9338535', 'ahodki', 'ambarw', 'anonym2', 'asheal', 'ccjami']"
      ]
     },
     "execution_count": 19,
     "metadata": {},
     "output_type": "execute_result"
    }
   ],
   "source": [
    "test_folders"
   ]
  },
  {
   "cell_type": "code",
   "execution_count": 22,
   "metadata": {},
   "outputs": [
    {
     "data": {
      "text/plain": [
       "array(['9326871', '9326871', '9326871', '9326871', '9326871', '9326871',\n",
       "       '9326871', '9338535', '9338535', '9338535', '9338535', '9338535',\n",
       "       '9338535', '9338535', '9338535', 'ahodki', 'ahodki', 'ahodki',\n",
       "       'ahodki', 'ahodki', 'ahodki', 'ahodki', 'ahodki', 'ambarw',\n",
       "       'ambarw', 'ambarw', 'ambarw', 'ambarw', 'ambarw', 'ambarw',\n",
       "       'ambarw', 'anonym2', 'anonym2', 'anonym2', 'anonym2', 'anonym2',\n",
       "       'anonym2', 'anonym2', 'asheal', 'asheal', 'asheal', 'asheal',\n",
       "       'asheal', 'asheal', 'asheal', 'asheal', 'ccjami', 'ccjami',\n",
       "       'ccjami', 'ccjami', 'ccjami', 'ccjami', 'ccjami', 'ccjami'],\n",
       "      dtype='<U7')"
      ]
     },
     "execution_count": 22,
     "metadata": {},
     "output_type": "execute_result"
    }
   ],
   "source": [
    "actuals = []\n",
    "for i in test_folders:\n",
    "    for j in os.listdir(os.path.join(test_dir,i)):\n",
    "        actuals.append(i)\n",
    "        \n",
    "actuals = np.array(actuals)\n",
    "actuals"
   ]
  },
  {
   "cell_type": "code",
   "execution_count": 25,
   "metadata": {},
   "outputs": [
    {
     "name": "stdout",
     "output_type": "stream",
     "text": [
      "54\n",
      "54\n"
     ]
    }
   ],
   "source": [
    "print(len(actuals))\n",
    "print(len(test_pred))"
   ]
  },
  {
   "cell_type": "code",
   "execution_count": 26,
   "metadata": {},
   "outputs": [],
   "source": [
    "from sklearn.metrics import accuracy_score"
   ]
  },
  {
   "cell_type": "code",
   "execution_count": 27,
   "metadata": {},
   "outputs": [
    {
     "data": {
      "text/plain": [
       "0.018518518518518517"
      ]
     },
     "execution_count": 27,
     "metadata": {},
     "output_type": "execute_result"
    }
   ],
   "source": [
    "accuracy_score(actuals,test_pred)"
   ]
  },
  {
   "cell_type": "code",
   "execution_count": null,
   "metadata": {},
   "outputs": [],
   "source": []
  },
  {
   "cell_type": "markdown",
   "metadata": {},
   "source": [
    "### Own CNN Network"
   ]
  },
  {
   "cell_type": "code",
   "execution_count": 13,
   "metadata": {},
   "outputs": [
    {
     "name": "stderr",
     "output_type": "stream",
     "text": [
      "C:\\Users\\Saikrishna\\Anaconda3\\lib\\site-packages\\ipykernel_launcher.py:21: UserWarning: Update your `Dense` call to the Keras 2 API: `Dense(128, activation=\"relu\", kernel_initializer=\"uniform\")`\n"
     ]
    }
   ],
   "source": [
    "model = Sequential()\n",
    "\n",
    "model.add(Conv2D(filters=32, kernel_size=(5, 5), input_shape=(224, 224, 3), padding='valid'))\n",
    "model.add(BatchNormalization())\n",
    "model.add(Activation('relu'))\n",
    "model.add(MaxPooling2D(pool_size=(2,2)))\n",
    "\n",
    "model.add(Conv2D(filters=64, kernel_size=(5, 5), padding='valid'))\n",
    "model.add(BatchNormalization())\n",
    "model.add(Activation('relu'))\n",
    "model.add(MaxPooling2D(pool_size=(2,2)))\n",
    "\n",
    "model.add(Conv2D(filters=128, kernel_size=(5, 5), padding='valid'))\n",
    "model.add(BatchNormalization())\n",
    "model.add(Activation('relu'))\n",
    "model.add(MaxPooling2D(pool_size=(2, 2)))\n",
    "\n",
    "model.add(Flatten())\n",
    "model.add(Dropout(0.2))\n",
    "\n",
    "model.add(Dense(128, init='uniform', activation='relu'))\n",
    "model.add(Dropout(0.4))\n",
    "\n",
    "model.add(Dense(len(train_folders), activation='softmax'))"
   ]
  },
  {
   "cell_type": "code",
   "execution_count": 14,
   "metadata": {},
   "outputs": [],
   "source": [
    "model.compile(optimizer = \"adam\", loss = \"categorical_crossentropy\", metrics = [\"accuracy\"])"
   ]
  },
  {
   "cell_type": "code",
   "execution_count": 15,
   "metadata": {},
   "outputs": [
    {
     "name": "stdout",
     "output_type": "stream",
     "text": [
      "WARNING:tensorflow:From C:\\Users\\Saikrishna\\Anaconda3\\lib\\site-packages\\keras\\backend\\tensorflow_backend.py:422: The name tf.global_variables is deprecated. Please use tf.compat.v1.global_variables instead.\n",
      "\n",
      "Epoch 1/3\n",
      "14/14 [==============================] - 162s 12s/step - loss: 15.5614 - accuracy: 0.0956\n",
      "Epoch 2/3\n",
      "14/14 [==============================] - 157s 11s/step - loss: 2.9872 - accuracy: 0.0769\n",
      "Epoch 3/3\n",
      "14/14 [==============================] - 229s 16s/step - loss: 2.9718 - accuracy: 0.1142\n"
     ]
    },
    {
     "data": {
      "text/plain": [
       "<keras.callbacks.callbacks.History at 0x18404cd8ac8>"
      ]
     },
     "execution_count": 15,
     "metadata": {},
     "output_type": "execute_result"
    }
   ],
   "source": [
    "model.fit(train_set, epochs=3, steps_per_epoch=len(train_set))"
   ]
  },
  {
   "cell_type": "code",
   "execution_count": 16,
   "metadata": {},
   "outputs": [
    {
     "data": {
      "text/plain": [
       "array(['ajones', '9338543', '9338543', 'cchris', '9338543', '9338543',\n",
       "       '9338543', '9338543', '9338543', 'ajones', '9338543', '9338527',\n",
       "       '9338543', '9338543', '9338543', '9338543', '9338543', '9338543',\n",
       "       'cchris', '9338543', 'ajones', '9338543', '9338543', '9338543',\n",
       "       'ajones', '9338543', 'cchris', '9338543', '9338543', '9338543',\n",
       "       '9338543', '9338543', 'ajones', '9338543', '9338527', '9338543',\n",
       "       '9338543', '9338543', 'ajones', '9338543', '9338543', '9338543',\n",
       "       'ajones', '9338543', '9338543', '9338543', 'ajones', '9338543',\n",
       "       '9338543', '9338543', 'ajones', '9338543', 'ajones', '9338543'],\n",
       "      dtype='<U7')"
      ]
     },
     "execution_count": 16,
     "metadata": {},
     "output_type": "execute_result"
    }
   ],
   "source": [
    "test_pred = []\n",
    "for i in np.argmax(model.predict(test_set),axis=1):\n",
    "    test_pred.append(train_folders[i])\n",
    "\n",
    "test_pred = np.array(test_pred)\n",
    "test_pred"
   ]
  },
  {
   "cell_type": "code",
   "execution_count": 17,
   "metadata": {},
   "outputs": [
    {
     "data": {
      "text/plain": [
       "array(['9326871', '9326871', '9326871', '9326871', '9326871', '9326871',\n",
       "       '9326871', '9338535', '9338535', '9338535', '9338535', '9338535',\n",
       "       '9338535', '9338535', '9338535', 'ahodki', 'ahodki', 'ahodki',\n",
       "       'ahodki', 'ahodki', 'ahodki', 'ahodki', 'ahodki', 'ambarw',\n",
       "       'ambarw', 'ambarw', 'ambarw', 'ambarw', 'ambarw', 'ambarw',\n",
       "       'ambarw', 'anonym2', 'anonym2', 'anonym2', 'anonym2', 'anonym2',\n",
       "       'anonym2', 'anonym2', 'asheal', 'asheal', 'asheal', 'asheal',\n",
       "       'asheal', 'asheal', 'asheal', 'asheal', 'ccjami', 'ccjami',\n",
       "       'ccjami', 'ccjami', 'ccjami', 'ccjami', 'ccjami', 'ccjami'],\n",
       "      dtype='<U7')"
      ]
     },
     "execution_count": 17,
     "metadata": {},
     "output_type": "execute_result"
    }
   ],
   "source": [
    "actuals = []\n",
    "for i in test_folders:\n",
    "    for j in os.listdir(os.path.join(test_dir,i)):\n",
    "        actuals.append(i)\n",
    "        \n",
    "actuals = np.array(actuals)\n",
    "actuals"
   ]
  },
  {
   "cell_type": "code",
   "execution_count": 18,
   "metadata": {},
   "outputs": [],
   "source": [
    "from sklearn.metrics import accuracy_score"
   ]
  },
  {
   "cell_type": "code",
   "execution_count": 19,
   "metadata": {},
   "outputs": [
    {
     "data": {
      "text/plain": [
       "0.0"
      ]
     },
     "execution_count": 19,
     "metadata": {},
     "output_type": "execute_result"
    }
   ],
   "source": [
    "accuracy_score(actuals,test_pred)"
   ]
  },
  {
   "cell_type": "code",
   "execution_count": null,
   "metadata": {},
   "outputs": [],
   "source": []
  }
 ],
 "metadata": {
  "kernelspec": {
   "display_name": "Python 3",
   "language": "python",
   "name": "python3"
  },
  "language_info": {
   "codemirror_mode": {
    "name": "ipython",
    "version": 3
   },
   "file_extension": ".py",
   "mimetype": "text/x-python",
   "name": "python",
   "nbconvert_exporter": "python",
   "pygments_lexer": "ipython3",
   "version": "3.6.5"
  }
 },
 "nbformat": 4,
 "nbformat_minor": 2
}
